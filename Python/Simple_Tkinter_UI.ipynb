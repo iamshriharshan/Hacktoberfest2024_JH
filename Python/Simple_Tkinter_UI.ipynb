{
 "cells": [
  {
   "cell_type": "code",
   "execution_count": 1,
   "id": "7c737733-fd71-4677-a26c-f8bc7988f877",
   "metadata": {},
   "outputs": [],
   "source": [
    "import tkinter as tk"
   ]
  },
  {
   "cell_type": "code",
   "execution_count": 2,
   "id": "21e2f7f2-d8ca-4937-a600-232bff8ee1cb",
   "metadata": {},
   "outputs": [],
   "source": [
    "def get_name():\n",
    "    name = entry.get()\n",
    "    print(f\"Hello, {name}!\")"
   ]
  },
  {
   "cell_type": "code",
   "execution_count": 3,
   "id": "c92c8109-ad8c-4b30-bd9c-c4dca1be0f50",
   "metadata": {},
   "outputs": [],
   "source": [
    "window = tk.Tk()\n",
    "tkText = tk.Label(\n",
    "    text =\"Hello, Please enter your name:\",\n",
    "    fg =\"white\",\n",
    "    width=25)\n",
    "tkText.pack()\n",
    "entry = tk.Entry(fg=\"black\", bg=\"white\", width=25)\n",
    "entry.pack()\n",
    "name = entry.get()\n",
    "tkButton = tk.Button(\n",
    "    text=\"Click me!\",\n",
    "    width=20,\n",
    "    height=1,\n",
    "    fg =\"pink\",\n",
    "    command=get_name)\n",
    "tkButton.pack()\n",
    "window.mainloop()"
   ]
  }
 ],
 "metadata": {
  "kernelspec": {
   "display_name": "Python 3 (ipykernel)",
   "language": "python",
   "name": "python3"
  },
  "language_info": {
   "codemirror_mode": {
    "name": "ipython",
    "version": 3
   },
   "file_extension": ".py",
   "mimetype": "text/x-python",
   "name": "python",
   "nbconvert_exporter": "python",
   "pygments_lexer": "ipython3",
   "version": "3.11.7"
  }
 },
 "nbformat": 4,
 "nbformat_minor": 5
}
